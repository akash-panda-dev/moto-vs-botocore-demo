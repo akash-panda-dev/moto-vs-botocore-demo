{
 "cells": [
  {
   "cell_type": "code",
   "execution_count": null,
   "metadata": {},
   "outputs": [],
   "source": [
    "import boto3\n",
    "import moto\n",
    "\n",
    "import boto3\n",
    "from moto import mock_s3\n",
    "\n",
    "class MyModel(object):\n",
    "    def __init__(self, name, value):\n",
    "        self.name = name\n",
    "        self.value = value\n",
    "\n",
    "    def save(self):\n",
    "        s3 = boto3.client('s3', region_name='us-east-1')\n",
    "        s3.put_object(Bucket='mybucket', Key=self.name, Body=self.value)\n",
    "        \n",
    "@mock_s3\n",
    "def test_my_model_save():\n",
    "    conn = boto3.resource('s3', region_name='us-east-1')\n",
    "    # We need to create the bucket since this is all in Moto's 'virtual' AWS account\n",
    "    conn.create_bucket(Bucket='mybucket')\n",
    "\n",
    "    model_instance = MyModel('steve', 'is awesome')\n",
    "    model_instance.save()\n",
    "\n",
    "    body = conn.Object('mybucket', 'steve').get()['Body'].read().decode(\"utf-8\")\n",
    "\n",
    "    assert body == 'is awesome1'\n",
    "    \n",
    "if __name__ == '__main__':\n",
    "    test_my_model_save()"
   ]
  },
  {
   "cell_type": "code",
   "execution_count": null,
   "outputs": [],
   "source": [],
   "metadata": {
    "collapsed": false,
    "pycharm": {
     "name": "#%%\n"
    }
   }
  },
  {
   "cell_type": "code",
   "execution_count": null,
   "metadata": {},
   "outputs": [],
   "source": []
  }
 ],
 "metadata": {
  "kernelspec": {
   "display_name": "Python 3",
   "language": "python",
   "name": "python3"
  },
  "language_info": {
   "codemirror_mode": {
    "name": "ipython",
    "version": 2
   },
   "file_extension": ".py",
   "mimetype": "text/x-python",
   "name": "python",
   "nbconvert_exporter": "python",
   "pygments_lexer": "ipython2",
   "version": "2.7.6"
  },
  "pycharm": {
   "stem_cell": {
    "cell_type": "raw",
    "source": [],
    "metadata": {
     "collapsed": false
    }
   }
  }
 },
 "nbformat": 4,
 "nbformat_minor": 1
}